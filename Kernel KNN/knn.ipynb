{
 "cells": [
  {
   "cell_type": "code",
   "execution_count": 1,
   "id": "initial_id",
   "metadata": {
    "ExecuteTime": {
     "end_time": "2024-02-29T07:03:07.898419Z",
     "start_time": "2024-02-29T07:03:04.406187Z"
    },
    "execution": {
     "iopub.execute_input": "2024-02-29T07:04:46.729010Z",
     "iopub.status.busy": "2024-02-29T07:04:46.728011Z",
     "iopub.status.idle": "2024-02-29T07:04:47.308261Z",
     "shell.execute_reply": "2024-02-29T07:04:47.308261Z",
     "shell.execute_reply.started": "2024-02-29T07:04:46.729010Z"
    }
   },
   "outputs": [],
   "source": [
    "import pandas as pd\n",
    "import numpy as np"
   ]
  },
  {
   "cell_type": "code",
   "execution_count": 2,
   "id": "5cd204f62aaac1ab",
   "metadata": {
    "ExecuteTime": {
     "end_time": "2024-02-29T07:03:07.961902Z",
     "start_time": "2024-02-29T07:03:07.901110Z"
    },
    "collapsed": false,
    "execution": {
     "iopub.execute_input": "2024-02-29T07:04:47.309252Z",
     "iopub.status.busy": "2024-02-29T07:04:47.309252Z",
     "iopub.status.idle": "2024-02-29T07:04:47.342092Z",
     "shell.execute_reply": "2024-02-29T07:04:47.341639Z",
     "shell.execute_reply.started": "2024-02-29T07:04:47.309252Z"
    },
    "jupyter": {
     "outputs_hidden": false
    }
   },
   "outputs": [],
   "source": [
    "orig = pd.read_csv('flat_dataset.csv')"
   ]
  },
  {
   "cell_type": "code",
   "execution_count": 3,
   "id": "4be05beda6d8488b",
   "metadata": {
    "ExecuteTime": {
     "start_time": "2024-02-29T07:03:07.966539Z"
    },
    "collapsed": false,
    "execution": {
     "iopub.execute_input": "2024-02-29T07:04:47.343543Z",
     "iopub.status.busy": "2024-02-29T07:04:47.342092Z",
     "iopub.status.idle": "2024-02-29T07:04:48.229700Z",
     "shell.execute_reply": "2024-02-29T07:04:48.228869Z",
     "shell.execute_reply.started": "2024-02-29T07:04:47.343543Z"
    },
    "is_executing": true,
    "jupyter": {
     "outputs_hidden": false
    }
   },
   "outputs": [],
   "source": [
    "from sklearn.compose import make_column_selector, make_column_transformer\n",
    "from sklearn.compose import ColumnTransformer\n",
    "from sklearn.pipeline import make_pipeline, Pipeline\n",
    "\n",
    "from sklearn.preprocessing import OrdinalEncoder, OneHotEncoder\n",
    "from sklearn.preprocessing import FunctionTransformer, StandardScaler\n",
    "from sklearn.impute import SimpleImputer\n",
    "\n",
    "\n",
    "def ratio_name(function_transformer, feature_names_in):\n",
    "    return [\"avg_room_area\"]  # feature names out\n",
    "\n",
    "def column_ratio(X):\n",
    "    return X[:, [0]] / X[:, [1]]\n",
    "\n",
    "\n",
    "ratio_pipeline= make_pipeline(\n",
    "    SimpleImputer(strategy=\"median\"),\n",
    "    FunctionTransformer(column_ratio, feature_names_out=ratio_name), StandardScaler())\n",
    "\n",
    "\n",
    "cat_pipeline = make_pipeline(\n",
    "    SimpleImputer(strategy=\"most_frequent\"), OneHotEncoder(sparse_output=False), StandardScaler())\n",
    "\n",
    "\n",
    "ncat_pipeline = make_pipeline(\n",
    "    SimpleImputer(strategy=\"most_frequent\"), OrdinalEncoder(), StandardScaler(with_mean=False))\n",
    "\n",
    "\n",
    "log_pipeline = make_pipeline(\n",
    "    SimpleImputer(strategy=\"median\"),\n",
    "    FunctionTransformer(np.log, feature_names_out=\"one-to-one\"), StandardScaler())\n",
    "\n",
    "default_num_pipeline = make_pipeline(SimpleImputer(strategy=\"median\"), StandardScaler())\n",
    "\n",
    "cols_to_drop = [\"Санузел\", \"Высота потолков\", \"Лифт\", \"Материал стен\", \"Парковка\", \"price\"]\n",
    "\n",
    "\n",
    "qual_preprocessing = ColumnTransformer([\n",
    "    (\"renov_type\", cat_pipeline, [\"Ремонт\"]),\n",
    "    ('column_dropper', 'drop', cols_to_drop)\n",
    "], remainder=default_num_pipeline)"
   ]
  },
  {
   "cell_type": "code",
   "execution_count": 4,
   "id": "9ece6ddddfa96bad",
   "metadata": {
    "collapsed": false,
    "execution": {
     "iopub.execute_input": "2024-02-29T07:04:48.230729Z",
     "iopub.status.busy": "2024-02-29T07:04:48.230729Z",
     "iopub.status.idle": "2024-02-29T07:04:48.236996Z",
     "shell.execute_reply": "2024-02-29T07:04:48.235830Z",
     "shell.execute_reply.started": "2024-02-29T07:04:48.230729Z"
    },
    "is_executing": true,
    "jupyter": {
     "outputs_hidden": false
    }
   },
   "outputs": [],
   "source": [
    "def transform(df):\n",
    "    y = pd.cut(df[\"price\"],\n",
    "                          bins=[0, 1.7e7, 2e7, 2.5e7, np.inf],\n",
    "                          labels=[1, 2, 3, 4])\n",
    "    df_prepared = qual_preprocessing.fit_transform(df)\n",
    "    return pd.DataFrame(\n",
    "        df_prepared,\n",
    "        columns=[feature.split('__')[1] for feature in qual_preprocessing.get_feature_names_out()],\n",
    "        index=df.index).drop(columns=['Unnamed: 0']).assign(sale_cat=y)"
   ]
  },
  {
   "cell_type": "code",
   "execution_count": 5,
   "id": "d18d2a9bd65a804e",
   "metadata": {
    "collapsed": false,
    "execution": {
     "iopub.execute_input": "2024-02-29T07:04:48.238641Z",
     "iopub.status.busy": "2024-02-29T07:04:48.238641Z",
     "iopub.status.idle": "2024-02-29T07:04:48.274425Z",
     "shell.execute_reply": "2024-02-29T07:04:48.273376Z",
     "shell.execute_reply.started": "2024-02-29T07:04:48.238641Z"
    },
    "is_executing": true,
    "jupyter": {
     "outputs_hidden": false
    }
   },
   "outputs": [],
   "source": [
    "transformed_df = transform(orig)"
   ]
  },
  {
   "cell_type": "code",
   "execution_count": 140,
   "id": "eebcf22f-bcab-4bab-87d0-d594ba5fa71f",
   "metadata": {
    "execution": {
     "iopub.execute_input": "2024-02-29T08:45:49.590859Z",
     "iopub.status.busy": "2024-02-29T08:45:49.589860Z",
     "iopub.status.idle": "2024-02-29T08:45:49.630612Z",
     "shell.execute_reply": "2024-02-29T08:45:49.630551Z",
     "shell.execute_reply.started": "2024-02-29T08:45:49.590859Z"
    }
   },
   "outputs": [
    {
     "data": {
      "text/html": [
       "<div>\n",
       "<style scoped>\n",
       "    .dataframe tbody tr th:only-of-type {\n",
       "        vertical-align: middle;\n",
       "    }\n",
       "\n",
       "    .dataframe tbody tr th {\n",
       "        vertical-align: top;\n",
       "    }\n",
       "\n",
       "    .dataframe thead th {\n",
       "        text-align: right;\n",
       "    }\n",
       "</style>\n",
       "<table border=\"1\" class=\"dataframe\">\n",
       "  <thead>\n",
       "    <tr style=\"text-align: right;\">\n",
       "      <th></th>\n",
       "      <th>Ремонт_Дизайнерский</th>\n",
       "      <th>Ремонт_Евро</th>\n",
       "      <th>Ремонт_Хороший</th>\n",
       "      <th>Ремонт_Чистовая отделка</th>\n",
       "      <th>center_dist</th>\n",
       "      <th>Комнат</th>\n",
       "      <th>Площадь квартиры</th>\n",
       "      <th>Этаж</th>\n",
       "      <th>Жилая площадь</th>\n",
       "      <th>Площадь кухни</th>\n",
       "      <th>Кол-во санузлов</th>\n",
       "      <th>sale_cat</th>\n",
       "    </tr>\n",
       "  </thead>\n",
       "  <tbody>\n",
       "    <tr>\n",
       "      <th>0</th>\n",
       "      <td>-0.365594</td>\n",
       "      <td>0.751161</td>\n",
       "      <td>-0.446595</td>\n",
       "      <td>-0.287876</td>\n",
       "      <td>-1.105745</td>\n",
       "      <td>-1.528668</td>\n",
       "      <td>-0.699254</td>\n",
       "      <td>-0.107723</td>\n",
       "      <td>-0.053005</td>\n",
       "      <td>-0.272567</td>\n",
       "      <td>-0.564738</td>\n",
       "      <td>3</td>\n",
       "    </tr>\n",
       "    <tr>\n",
       "      <th>1</th>\n",
       "      <td>-0.365594</td>\n",
       "      <td>0.751161</td>\n",
       "      <td>-0.446595</td>\n",
       "      <td>-0.287876</td>\n",
       "      <td>-0.056460</td>\n",
       "      <td>0.590873</td>\n",
       "      <td>0.193250</td>\n",
       "      <td>3.480054</td>\n",
       "      <td>0.760253</td>\n",
       "      <td>-1.442678</td>\n",
       "      <td>-0.564738</td>\n",
       "      <td>4</td>\n",
       "    </tr>\n",
       "    <tr>\n",
       "      <th>2</th>\n",
       "      <td>2.735276</td>\n",
       "      <td>-1.331272</td>\n",
       "      <td>-0.446595</td>\n",
       "      <td>-0.287876</td>\n",
       "      <td>-0.721500</td>\n",
       "      <td>-1.528668</td>\n",
       "      <td>-0.825803</td>\n",
       "      <td>-0.639246</td>\n",
       "      <td>-0.969533</td>\n",
       "      <td>-0.396119</td>\n",
       "      <td>-0.564738</td>\n",
       "      <td>3</td>\n",
       "    </tr>\n",
       "    <tr>\n",
       "      <th>3</th>\n",
       "      <td>-0.365594</td>\n",
       "      <td>0.751161</td>\n",
       "      <td>-0.446595</td>\n",
       "      <td>-0.287876</td>\n",
       "      <td>-1.105745</td>\n",
       "      <td>-1.528668</td>\n",
       "      <td>-1.048929</td>\n",
       "      <td>-0.639246</td>\n",
       "      <td>-0.053005</td>\n",
       "      <td>-0.272567</td>\n",
       "      <td>-0.564738</td>\n",
       "      <td>1</td>\n",
       "    </tr>\n",
       "    <tr>\n",
       "      <th>4</th>\n",
       "      <td>-0.365594</td>\n",
       "      <td>0.751161</td>\n",
       "      <td>-0.446595</td>\n",
       "      <td>-0.287876</td>\n",
       "      <td>0.061769</td>\n",
       "      <td>-0.468898</td>\n",
       "      <td>-0.259662</td>\n",
       "      <td>-0.905007</td>\n",
       "      <td>0.127719</td>\n",
       "      <td>-0.541475</td>\n",
       "      <td>-0.564738</td>\n",
       "      <td>1</td>\n",
       "    </tr>\n",
       "    <tr>\n",
       "      <th>...</th>\n",
       "      <td>...</td>\n",
       "      <td>...</td>\n",
       "      <td>...</td>\n",
       "      <td>...</td>\n",
       "      <td>...</td>\n",
       "      <td>...</td>\n",
       "      <td>...</td>\n",
       "      <td>...</td>\n",
       "      <td>...</td>\n",
       "      <td>...</td>\n",
       "      <td>...</td>\n",
       "      <td>...</td>\n",
       "    </tr>\n",
       "    <tr>\n",
       "      <th>9978</th>\n",
       "      <td>-0.365594</td>\n",
       "      <td>-1.331272</td>\n",
       "      <td>2.239164</td>\n",
       "      <td>-0.287876</td>\n",
       "      <td>-0.499820</td>\n",
       "      <td>-0.468898</td>\n",
       "      <td>-0.542733</td>\n",
       "      <td>-0.240604</td>\n",
       "      <td>-0.388635</td>\n",
       "      <td>-0.686830</td>\n",
       "      <td>-0.564738</td>\n",
       "      <td>1</td>\n",
       "    </tr>\n",
       "    <tr>\n",
       "      <th>9979</th>\n",
       "      <td>2.735276</td>\n",
       "      <td>-1.331272</td>\n",
       "      <td>-0.446595</td>\n",
       "      <td>-0.287876</td>\n",
       "      <td>-0.012124</td>\n",
       "      <td>-0.468898</td>\n",
       "      <td>-0.859105</td>\n",
       "      <td>0.689561</td>\n",
       "      <td>-0.517723</td>\n",
       "      <td>-0.977541</td>\n",
       "      <td>-0.564738</td>\n",
       "      <td>2</td>\n",
       "    </tr>\n",
       "    <tr>\n",
       "      <th>9980</th>\n",
       "      <td>-0.365594</td>\n",
       "      <td>0.751161</td>\n",
       "      <td>-0.446595</td>\n",
       "      <td>-0.287876</td>\n",
       "      <td>1.613527</td>\n",
       "      <td>1.650643</td>\n",
       "      <td>0.952545</td>\n",
       "      <td>-1.037888</td>\n",
       "      <td>1.418604</td>\n",
       "      <td>-0.396119</td>\n",
       "      <td>1.227309</td>\n",
       "      <td>3</td>\n",
       "    </tr>\n",
       "    <tr>\n",
       "      <th>9981</th>\n",
       "      <td>2.735276</td>\n",
       "      <td>-1.331272</td>\n",
       "      <td>-0.446595</td>\n",
       "      <td>-0.287876</td>\n",
       "      <td>-0.056460</td>\n",
       "      <td>-1.528668</td>\n",
       "      <td>-0.925710</td>\n",
       "      <td>-1.037888</td>\n",
       "      <td>-1.679520</td>\n",
       "      <td>0.330658</td>\n",
       "      <td>-0.564738</td>\n",
       "      <td>3</td>\n",
       "    </tr>\n",
       "    <tr>\n",
       "      <th>9982</th>\n",
       "      <td>-0.365594</td>\n",
       "      <td>0.751161</td>\n",
       "      <td>-0.446595</td>\n",
       "      <td>-0.287876</td>\n",
       "      <td>-1.017073</td>\n",
       "      <td>0.590873</td>\n",
       "      <td>0.149957</td>\n",
       "      <td>-0.772127</td>\n",
       "      <td>0.908704</td>\n",
       "      <td>-0.759508</td>\n",
       "      <td>-0.564738</td>\n",
       "      <td>2</td>\n",
       "    </tr>\n",
       "  </tbody>\n",
       "</table>\n",
       "<p>9983 rows × 12 columns</p>\n",
       "</div>"
      ],
      "text/plain": [
       "      Ремонт_Дизайнерский  Ремонт_Евро  Ремонт_Хороший  \\\n",
       "0               -0.365594     0.751161       -0.446595   \n",
       "1               -0.365594     0.751161       -0.446595   \n",
       "2                2.735276    -1.331272       -0.446595   \n",
       "3               -0.365594     0.751161       -0.446595   \n",
       "4               -0.365594     0.751161       -0.446595   \n",
       "...                   ...          ...             ...   \n",
       "9978            -0.365594    -1.331272        2.239164   \n",
       "9979             2.735276    -1.331272       -0.446595   \n",
       "9980            -0.365594     0.751161       -0.446595   \n",
       "9981             2.735276    -1.331272       -0.446595   \n",
       "9982            -0.365594     0.751161       -0.446595   \n",
       "\n",
       "      Ремонт_Чистовая отделка  center_dist    Комнат  Площадь квартиры  \\\n",
       "0                   -0.287876    -1.105745 -1.528668         -0.699254   \n",
       "1                   -0.287876    -0.056460  0.590873          0.193250   \n",
       "2                   -0.287876    -0.721500 -1.528668         -0.825803   \n",
       "3                   -0.287876    -1.105745 -1.528668         -1.048929   \n",
       "4                   -0.287876     0.061769 -0.468898         -0.259662   \n",
       "...                       ...          ...       ...               ...   \n",
       "9978                -0.287876    -0.499820 -0.468898         -0.542733   \n",
       "9979                -0.287876    -0.012124 -0.468898         -0.859105   \n",
       "9980                -0.287876     1.613527  1.650643          0.952545   \n",
       "9981                -0.287876    -0.056460 -1.528668         -0.925710   \n",
       "9982                -0.287876    -1.017073  0.590873          0.149957   \n",
       "\n",
       "          Этаж  Жилая площадь  Площадь кухни  Кол-во санузлов sale_cat  \n",
       "0    -0.107723      -0.053005      -0.272567        -0.564738        3  \n",
       "1     3.480054       0.760253      -1.442678        -0.564738        4  \n",
       "2    -0.639246      -0.969533      -0.396119        -0.564738        3  \n",
       "3    -0.639246      -0.053005      -0.272567        -0.564738        1  \n",
       "4    -0.905007       0.127719      -0.541475        -0.564738        1  \n",
       "...        ...            ...            ...              ...      ...  \n",
       "9978 -0.240604      -0.388635      -0.686830        -0.564738        1  \n",
       "9979  0.689561      -0.517723      -0.977541        -0.564738        2  \n",
       "9980 -1.037888       1.418604      -0.396119         1.227309        3  \n",
       "9981 -1.037888      -1.679520       0.330658        -0.564738        3  \n",
       "9982 -0.772127       0.908704      -0.759508        -0.564738        2  \n",
       "\n",
       "[9983 rows x 12 columns]"
      ]
     },
     "execution_count": 140,
     "metadata": {},
     "output_type": "execute_result"
    }
   ],
   "source": [
    "transformed_df"
   ]
  },
  {
   "cell_type": "code",
   "execution_count": 142,
   "id": "dc51d8ce-1ee3-4a85-97d6-e5fbc9c183ad",
   "metadata": {
    "execution": {
     "iopub.execute_input": "2024-02-29T08:46:14.262984Z",
     "iopub.status.busy": "2024-02-29T08:46:14.262984Z",
     "iopub.status.idle": "2024-02-29T08:46:14.492009Z",
     "shell.execute_reply": "2024-02-29T08:46:14.491062Z",
     "shell.execute_reply.started": "2024-02-29T08:46:14.262984Z"
    }
   },
   "outputs": [
    {
     "data": {
      "text/plain": [
       "<Axes: >"
      ]
     },
     "execution_count": 142,
     "metadata": {},
     "output_type": "execute_result"
    },
    {
     "data": {
      "image/png": "[encoded data removed]",
      "text/plain": [
       "<Figure size 640x480 with 1 Axes>"
      ]
     },
     "metadata": {},
     "output_type": "display_data"
    }
   ],
   "source": [
    "transformed_df.sale_cat.hist()"
   ]
  },
  {
   "cell_type": "code",
   "execution_count": 6,
   "id": "2c9c26a8b9890643",
   "metadata": {
    "collapsed": false,
    "execution": {
     "iopub.execute_input": "2024-02-29T07:04:48.275405Z",
     "iopub.status.busy": "2024-02-29T07:04:48.275405Z",
     "iopub.status.idle": "2024-02-29T07:04:48.282898Z",
     "shell.execute_reply": "2024-02-29T07:04:48.281742Z",
     "shell.execute_reply.started": "2024-02-29T07:04:48.275405Z"
    },
    "is_executing": true,
    "jupyter": {
     "outputs_hidden": false
    }
   },
   "outputs": [],
   "source": [
    "X = transformed_df.drop(['sale_cat'], axis=1)[:500]\n",
    "y = transformed_df['sale_cat'][:500]"
   ]
  },
  {
   "cell_type": "code",
   "execution_count": 8,
   "id": "9298d8e41a21b3c1",
   "metadata": {
    "collapsed": false,
    "execution": {
     "iopub.execute_input": "2024-02-29T07:04:48.293710Z",
     "iopub.status.busy": "2024-02-29T07:04:48.293211Z",
     "iopub.status.idle": "2024-02-29T07:04:48.303692Z",
     "shell.execute_reply": "2024-02-29T07:04:48.303692Z",
     "shell.execute_reply.started": "2024-02-29T07:04:48.293710Z"
    },
    "is_executing": true,
    "jupyter": {
     "outputs_hidden": false
    }
   },
   "outputs": [],
   "source": [
    "from sklearn.model_selection import StratifiedShuffleSplit\n",
    "from sklearn.model_selection import train_test_split\n",
    "\n",
    "X_train, X_test, y_train, y_test = train_test_split(X, y, test_size=0.2, stratify=y, random_state=42)\n",
    "\n",
    "X_train, X_val, y_train, y_val = train_test_split(X_train, y_train, test_size=0.25, random_state=42)"
   ]
  },
  {
   "cell_type": "markdown",
   "id": "b6aee7ab-e920-4db9-a179-3d6f2d916f99",
   "metadata": {},
   "source": [
    "# Implementing KNN"
   ]
  },
  {
   "cell_type": "code",
   "execution_count": 10,
   "id": "7127b46daac16472",
   "metadata": {
    "collapsed": false,
    "execution": {
     "iopub.execute_input": "2024-02-29T07:04:48.316028Z",
     "iopub.status.busy": "2024-02-29T07:04:48.316028Z",
     "iopub.status.idle": "2024-02-29T07:04:48.339077Z",
     "shell.execute_reply": "2024-02-29T07:04:48.338580Z",
     "shell.execute_reply.started": "2024-02-29T07:04:48.316028Z"
    },
    "is_executing": true,
    "jupyter": {
     "outputs_hidden": false
    }
   },
   "outputs": [],
   "source": [
    "from joblib import Parallel, delayed\n",
    "from heapq import nsmallest\n",
    "from copy import deepcopy\n",
    "\n",
    "class KNNClassifier:\n",
    "    def __init__(self, n_neighbors=5, ker='uniform', p=2, metric='minkowski', window = None):\n",
    "        self.n_neighbors = n_neighbors\n",
    "        self.window = window\n",
    "        self.ker_func = self._get_core_function(ker)\n",
    "        \n",
    "        self.dist_func = self._get_metric_function(metric, p)\n",
    "\n",
    "    @staticmethod\n",
    "    def _get_metric_function(metric, p):\n",
    "        if metric == 'cosine':\n",
    "            return lambda x, y: 1 - np.dot(x, y) / (np.linalg.norm(x) * np.linalg.norm(y))\n",
    "        elif metric == 'minkowski':\n",
    "            return lambda x, y: np.power(np.sum(np.power(np.abs(np.subtract(x, y)), p)),\n",
    "                                         1 / p)\n",
    "        elif metric == 'chebyshev':\n",
    "            return lambda x, y: np.max(np.abs(np.subtract(x, y)))\n",
    "        elif metric == 'euclidean':\n",
    "            return lambda x, y: np.sqrt(np.sum(np.square(np.subtract(x, y))))\n",
    "        elif metric == 'manhattan':\n",
    "            return lambda x, y: np.sum(np.abs(np.subtract(x, y)))\n",
    "            \n",
    "    @staticmethod\n",
    "    def _get_core_function(ker):\n",
    "        if ker == 'uniform':\n",
    "            return lambda x: 1/2 * (np.abs(x) < 1)\n",
    "        elif ker == 'gauss':\n",
    "            return lambda x: 1/np.sqrt(2 * np.pi) * np.exp(-(x ** 2) / 2)\n",
    "        elif ker == 'cosine':\n",
    "            return lambda x: np.pi / 4 * np.cos(np.pi / 2 * x)\n",
    "        elif ker == 'triangular':\n",
    "            return lambda x: (1 - np.abs(x)) * (np.abs(x) <= 1)\n",
    "        else:\n",
    "            print(\"Unknown kernel function encountered, using uniform\")\n",
    "            return KNNClassifier._get_core_function('uniform')\n",
    "        \n",
    "        \n",
    "        \n",
    "    def fit(self, X, y, weights=None):\n",
    "        if weights is None:\n",
    "            weights = np.ones(len(X))\n",
    "        self.X = X\n",
    "        self.classes = np.unique(y).tolist()\n",
    "        self.X_classes = [[] for _ in range(len(self.classes))]\n",
    "        for x, label in zip([(x, w) for x, w in zip(X, weights)], y):\n",
    "            self.X_classes[self.classes.index(label)].append(x)\n",
    "        \n",
    "            \n",
    "    def predict(self, X):\n",
    "        return np.array([self._predict_single(x) for x in X])\n",
    "\n",
    "    def _count_ans(self, x, h, members, label):\n",
    "        label_ans = 0\n",
    "        for member, weight in members:\n",
    "            label_ans += weight * self.ker_func(self.dist_func(x, member) / h)\n",
    "        return (label_ans, label)\n",
    "        \n",
    "        \n",
    "        \n",
    "    def _predict_single(self, x):\n",
    "        ans = None\n",
    "        y = None\n",
    "        h = self._get_window(x)\n",
    "        for members, label in zip(self.X_classes, self.classes):\n",
    "            cur_ans = 0\n",
    "            for member, weight in members:\n",
    "                cur_ans += weight * self.ker_func(self.dist_func(x, member) / h)\n",
    "            if ans is None or cur_ans > ans:\n",
    "                ans = cur_ans\n",
    "                y = label\n",
    "        return y\n",
    "\n",
    "    def _get_window(self, x):\n",
    "        if self.window is not None:\n",
    "            return self.window\n",
    "        else:\n",
    "            neighbors = self._get_sorted_neighbors(x, self.n_neighbors + 1)\n",
    "            if len(neighbors) < self.n_neighbors + 1:\n",
    "                print(\"k is bigger than number of training points\")\n",
    "            return self.dist_func(x, neighbors[self.n_neighbors])\n",
    "\n",
    "    def _get_sorted_neighbors(self, ref, k):\n",
    "        dist_key = lambda x: self.dist_func(x, ref)\n",
    "        return nsmallest(k, self.X, key=dist_key)\n"
   ]
  },
  {
   "cell_type": "code",
   "execution_count": 14,
   "id": "d18d38bb325513c9",
   "metadata": {
    "collapsed": false,
    "execution": {
     "iopub.execute_input": "2024-02-29T07:04:48.367693Z",
     "iopub.status.busy": "2024-02-29T07:04:48.367693Z",
     "iopub.status.idle": "2024-02-29T07:04:48.556087Z",
     "shell.execute_reply": "2024-02-29T07:04:48.555096Z",
     "shell.execute_reply.started": "2024-02-29T07:04:48.367693Z"
    },
    "is_executing": true,
    "jupyter": {
     "outputs_hidden": false
    }
   },
   "outputs": [
    {
     "name": "stdout",
     "output_type": "stream",
     "text": [
      "0.722191343681259\n"
     ]
    }
   ],
   "source": [
    "from sklearn.metrics import f1_score\n",
    "\n",
    "clf = KNeighborsClassifier(n_neighbors=10, algorithm='brute')\n",
    "clf.fit(X_train.values, y_train.values)\n",
    "y_pred = clf.predict(X_test.values)\n",
    "print(f1_score(y_test, y_pred, average='weighted'))"
   ]
  },
  {
   "cell_type": "code",
   "execution_count": 15,
   "id": "b517e318-10a7-42d2-a36a-c0c1bb5c1473",
   "metadata": {
    "execution": {
     "iopub.execute_input": "2024-02-29T07:04:48.558087Z",
     "iopub.status.busy": "2024-02-29T07:04:48.557087Z",
     "iopub.status.idle": "2024-02-29T07:04:49.304446Z",
     "shell.execute_reply": "2024-02-29T07:04:49.303458Z",
     "shell.execute_reply.started": "2024-02-29T07:04:48.558087Z"
    },
    "is_executing": true
   },
   "outputs": [
    {
     "name": "stdout",
     "output_type": "stream",
     "text": [
      "0.722191343681259\n"
     ]
    }
   ],
   "source": [
    "my_clf = KNNClassifier(n_neighbors=10)\n",
    "my_clf.fit(X_train.values, y_train.values)\n",
    "my_y_pred = my_clf.predict(X_test.values)\n",
    "print(f1_score(y_test, my_y_pred, average='weighted'))"
   ]
  },
  {
   "cell_type": "markdown",
   "id": "05a5177d-4f1f-4a44-90d2-161c303dd027",
   "metadata": {},
   "source": [
    "# Finding the best hyperparameters"
   ]
  },
  {
   "cell_type": "code",
   "execution_count": 113,
   "id": "bc3483d0-f7ee-4458-875c-843cf4691553",
   "metadata": {
    "execution": {
     "iopub.execute_input": "2024-02-29T08:17:44.540097Z",
     "iopub.status.busy": "2024-02-29T08:17:44.540097Z",
     "iopub.status.idle": "2024-02-29T08:17:44.549091Z",
     "shell.execute_reply": "2024-02-29T08:17:44.548340Z",
     "shell.execute_reply.started": "2024-02-29T08:17:44.540097Z"
    },
    "is_executing": true
   },
   "outputs": [],
   "source": [
    "import optuna\n",
    "\n",
    "def create_classifier_window(trial):\n",
    "    metric = trial.suggest_categorical('metric', ['cosine', 'minkowski', 'chebyshev', 'euclidean', 'manhattan'])\n",
    "    ker = trial.suggest_categorical('ker', ['uniform', 'gauss', 'cosine', 'triangular'])\n",
    "    window = trial.suggest_float('window', 1e-3, 100)    \n",
    "\n",
    "    clf = KNNClassifier(ker=ker, metric=metric, window=window)\n",
    "    \n",
    "    return clf\n",
    "\n",
    "def create_classifier_k(trial):\n",
    "    n_neighbors = trial.suggest_int('n_neighbors', 1, 15)\n",
    "    metric = trial.suggest_categorical('metric', ['cosine', 'minkowski', 'chebyshev', 'euclidean', 'manhattan'])\n",
    "    ker = trial.suggest_categorical('ker', ['uniform', 'gauss', 'cosine', 'triangular'])\n",
    "\n",
    "    clf = KNNClassifier(n_neighbors, ker=ker, metric=metric, window=None)\n",
    "    \n",
    "    return clf\n",
    "\n",
    "def create_sklearn_clf(trial):\n",
    "    n_neighbors = trial.suggest_int('n_neighbors', 1, 15)\n",
    "    weights = trial.suggest_categorical('weights', ['uniform', 'distance'])\n",
    "    metric = trial.suggest_categorical('metric', ['cosine', 'l1', 'l2', 'manhattan'])\n",
    "\n",
    "    clf = KNeighborsClassifier(n_neighbors, weights=weights, metric=metric)\n",
    "    \n",
    "    return clf\n",
    "\n",
    "def objective_window(trial):\n",
    "    my_clf = create_classifier_window(trial)\n",
    "    my_clf.fit(X_train.values, y_train.values)\n",
    "    my_y_pred = my_clf.predict(X_val.values)\n",
    "    score = f1_score(y_val, my_y_pred, average='weighted')\n",
    "    return score\n",
    "\n",
    "def objective_k(trial):\n",
    "    my_clf = create_classifier_k(trial)\n",
    "    my_clf.fit(X_train.values, y_train.values)\n",
    "    my_y_pred = my_clf.predict(X_val.values)\n",
    "    score = f1_score(y_val, my_y_pred, average='weighted')\n",
    "    return score\n",
    "\n",
    "def objective_sklearn(trial):\n",
    "    clf = create_sklearn_clf(trial)\n",
    "    clf.fit(X_train.values, y_train.values)\n",
    "    y_pred = clf.predict(X_val.values)\n",
    "    score = f1_score(y_val, y_pred, average='weighted')\n",
    "    return score"
   ]
  },
  {
   "cell_type": "code",
   "execution_count": 114,
   "id": "d6b3af6f-02e0-4281-ae74-9ebd56370e76",
   "metadata": {
    "execution": {
     "iopub.execute_input": "2024-02-29T08:17:46.429031Z",
     "iopub.status.busy": "2024-02-29T08:17:46.429031Z",
     "iopub.status.idle": "2024-02-29T08:20:05.935306Z",
     "shell.execute_reply": "2024-02-29T08:20:05.934634Z",
     "shell.execute_reply.started": "2024-02-29T08:17:46.429031Z"
    },
    "is_executing": true
   },
   "outputs": [
    {
     "data": {
      "text/plain": [
       "({'metric': 'minkowski', 'ker': 'triangular', 'window': 2.3614178603781566},\n",
       " 0.6570095117489799)"
      ]
     },
     "execution_count": 114,
     "metadata": {},
     "output_type": "execute_result"
    }
   ],
   "source": [
    "optuna.logging.set_verbosity(optuna.logging.WARN)\n",
    "\n",
    "study = optuna.create_study(direction='maximize')\n",
    "study.optimize(objective_window, n_trials=300, n_jobs=-1)\n",
    "best_window_params = study.best_params\n",
    "best_window_value = study.best_value\n",
    "study.best_params, study.best_value"
   ]
  },
  {
   "cell_type": "code",
   "execution_count": 115,
   "id": "bf816591-cae2-4470-80de-4a0536f0a1a9",
   "metadata": {
    "execution": {
     "iopub.execute_input": "2024-02-29T08:20:06.041601Z",
     "iopub.status.busy": "2024-02-29T08:20:06.040927Z",
     "iopub.status.idle": "2024-02-29T08:29:24.479932Z",
     "shell.execute_reply": "2024-02-29T08:29:24.479932Z",
     "shell.execute_reply.started": "2024-02-29T08:20:06.041601Z"
    },
    "is_executing": true
   },
   "outputs": [
    {
     "data": {
      "text/plain": [
       "({'n_neighbors': 3, 'metric': 'cosine', 'ker': 'triangular'},\n",
       " 0.7224285714285713)"
      ]
     },
     "execution_count": 115,
     "metadata": {},
     "output_type": "execute_result"
    }
   ],
   "source": [
    "optuna.logging.set_verbosity(optuna.logging.WARN)\n",
    "\n",
    "study = optuna.create_study(direction='maximize')\n",
    "study.optimize(objective_k, n_trials=300, n_jobs=-1)\n",
    "best_k_params = study.best_params\n",
    "best_k_value = study.best_value\n",
    "study.best_params, study.best_value"
   ]
  },
  {
   "cell_type": "code",
   "execution_count": 116,
   "id": "ff91e71d-36d7-4e1d-871b-91b54fd012d2",
   "metadata": {
    "execution": {
     "iopub.execute_input": "2024-02-29T08:29:24.482328Z",
     "iopub.status.busy": "2024-02-29T08:29:24.480925Z",
     "iopub.status.idle": "2024-02-29T08:29:49.983588Z",
     "shell.execute_reply": "2024-02-29T08:29:49.983588Z",
     "shell.execute_reply.started": "2024-02-29T08:29:24.482328Z"
    },
    "is_executing": true
   },
   "outputs": [
    {
     "data": {
      "text/plain": [
       "({'n_neighbors': 6, 'weights': 'distance', 'metric': 'l1'}, 0.7254996485561918)"
      ]
     },
     "execution_count": 116,
     "metadata": {},
     "output_type": "execute_result"
    }
   ],
   "source": [
    "optuna.logging.set_verbosity(optuna.logging.WARN)\n",
    "\n",
    "study = optuna.create_study(direction='maximize')\n",
    "study.optimize(objective_sklearn, n_trials = 1000, n_jobs=-1)\n",
    "best_sklearn_params = study.best_params\n",
    "best_sklearn_value = study.best_value\n",
    "study.best_params, study.best_value"
   ]
  },
  {
   "cell_type": "code",
   "execution_count": 150,
   "id": "5b418247-023b-4d68-b166-9a42208f61ff",
   "metadata": {
    "execution": {
     "iopub.execute_input": "2024-02-29T09:14:37.256197Z",
     "iopub.status.busy": "2024-02-29T09:14:37.256197Z",
     "iopub.status.idle": "2024-02-29T09:14:37.261709Z",
     "shell.execute_reply": "2024-02-29T09:14:37.260967Z",
     "shell.execute_reply.started": "2024-02-29T09:14:37.256197Z"
    },
    "is_executing": true
   },
   "outputs": [],
   "source": [
    "from copy import copy\n",
    "\n",
    "def get_cls_stats(CLS, best_params, X_pred, y_pred):\n",
    "    neighbors = []\n",
    "    scores = []\n",
    "    best_params = copy(best_params)\n",
    "    best_params.pop('n_neighbors', None)\n",
    "    for n in range(1, 16):\n",
    "        sk_cls = CLS(n_neighbors=n, **best_params)\n",
    "        sk_cls.fit(X_train.values, y_train.values)\n",
    "        preds = sk_cls.predict(X_pred.values)\n",
    "        score = f1_score(y_pred, preds, average='weighted')\n",
    "        neighbors.append(n)\n",
    "        scores.append(score)\n",
    "    return (neighbors, scores)"
   ]
  },
  {
   "cell_type": "code",
   "execution_count": 151,
   "id": "b2d86684-c097-44de-97e7-109e6598d2e4",
   "metadata": {
    "execution": {
     "iopub.execute_input": "2024-02-29T09:14:38.834164Z",
     "iopub.status.busy": "2024-02-29T09:14:38.834164Z",
     "iopub.status.idle": "2024-02-29T09:14:38.839181Z",
     "shell.execute_reply": "2024-02-29T09:14:38.839181Z",
     "shell.execute_reply.started": "2024-02-29T09:14:38.834164Z"
    },
    "is_executing": true
   },
   "outputs": [],
   "source": [
    "import matplotlib.pyplot as plt\n",
    "\n",
    "def plot_from_neighbors(neighbors, scores, cls):\n",
    "    fig, ax = plt.subplots()\n",
    "    ax.scatter(neighbors, scores)\n",
    "    \n",
    "    ax.set(xlabel='number of neighbors', ylabel='f1 score', title = f'Graph for classifier {cls}')\n",
    "    ax.grid()\n",
    "    plt.xticks(neighbors)\n",
    "    \n",
    "    plt.show()"
   ]
  },
  {
   "cell_type": "code",
   "execution_count": 152,
   "id": "a7296dd1-c8f7-4105-911b-3e11577b06e3",
   "metadata": {
    "execution": {
     "iopub.execute_input": "2024-02-29T09:14:40.482269Z",
     "iopub.status.busy": "2024-02-29T09:14:40.482269Z",
     "iopub.status.idle": "2024-02-29T09:14:40.732939Z",
     "shell.execute_reply": "2024-02-29T09:14:40.731943Z",
     "shell.execute_reply.started": "2024-02-29T09:14:40.482269Z"
    },
    "is_executing": true
   },
   "outputs": [
    {
     "data": {
      "image/png": "[encoded data removed]",
      "text/plain": [
       "<Figure size 640x480 with 1 Axes>"
      ]
     },
     "metadata": {},
     "output_type": "display_data"
    }
   ],
   "source": [
    "neighbors, scores = get_cls_stats(KNeighborsClassifier, best_sklearn_params, X_val, y_val)\n",
    "plot_from_neighbors(neighbors, scores, 'sklearn on valid')"
   ]
  },
  {
   "cell_type": "code",
   "execution_count": 153,
   "id": "795ba16d-5013-460d-8634-083805008159",
   "metadata": {
    "execution": {
     "iopub.execute_input": "2024-02-29T09:14:43.834863Z",
     "iopub.status.busy": "2024-02-29T09:14:43.834863Z",
     "iopub.status.idle": "2024-02-29T09:14:44.085848Z",
     "shell.execute_reply": "2024-02-29T09:14:44.084855Z",
     "shell.execute_reply.started": "2024-02-29T09:14:43.834863Z"
    }
   },
   "outputs": [
    {
     "data": {
      "image/png": "[encoded data removed]",
      "text/plain": [
       "<Figure size 640x480 with 1 Axes>"
      ]
     },
     "metadata": {},
     "output_type": "display_data"
    }
   ],
   "source": [
    "neighbors, scores = get_cls_stats(KNeighborsClassifier, best_sklearn_params, X_test, y_test)\n",
    "plot_from_neighbors(neighbors, scores, 'sklearn on test')"
   ]
  },
  {
   "cell_type": "code",
   "execution_count": 154,
   "id": "72190097-90f4-4a8b-b339-dd5c183a6ea4",
   "metadata": {
    "execution": {
     "iopub.execute_input": "2024-02-29T09:14:45.906422Z",
     "iopub.status.busy": "2024-02-29T09:14:45.905207Z",
     "iopub.status.idle": "2024-02-29T09:14:56.749591Z",
     "shell.execute_reply": "2024-02-29T09:14:56.748954Z",
     "shell.execute_reply.started": "2024-02-29T09:14:45.906422Z"
    },
    "is_executing": true
   },
   "outputs": [
    {
     "data": {
      "image/png": "[encoded data removed]",
      "text/plain": [
       "<Figure size 640x480 with 1 Axes>"
      ]
     },
     "metadata": {},
     "output_type": "display_data"
    }
   ],
   "source": [
    "neighbors, scores = get_cls_stats(KNNClassifier, best_k_params, X_val, y_val)\n",
    "plot_from_neighbors(neighbors, scores, 'custom on valid')"
   ]
  },
  {
   "cell_type": "code",
   "execution_count": 155,
   "id": "095f0dc9-5326-463e-a464-4bbf3441ae07",
   "metadata": {
    "execution": {
     "iopub.execute_input": "2024-02-29T09:14:56.846123Z",
     "iopub.status.busy": "2024-02-29T09:14:56.844809Z",
     "iopub.status.idle": "2024-02-29T09:15:08.512022Z",
     "shell.execute_reply": "2024-02-29T09:15:08.511021Z",
     "shell.execute_reply.started": "2024-02-29T09:14:56.846123Z"
    }
   },
   "outputs": [
    {
     "data": {
      "image/png": "[encoded data removed]",
      "text/plain": [
       "<Figure size 640x480 with 1 Axes>"
      ]
     },
     "metadata": {},
     "output_type": "display_data"
    }
   ],
   "source": [
    "neighbors, scores = get_cls_stats(KNNClassifier, best_k_params, X_test, y_test)\n",
    "plot_from_neighbors(neighbors, scores, 'custom on test')"
   ]
  },
  {
   "cell_type": "markdown",
   "id": "0e2b14ab-9097-44f8-8b75-aa00fd8ab71d",
   "metadata": {},
   "source": [
    "# LOWESS"
   ]
  },
  {
   "cell_type": "code",
   "execution_count": 126,
   "id": "6bb1c4cd-ae1d-4909-9bf3-17f8f644f88e",
   "metadata": {
    "execution": {
     "iopub.execute_input": "2024-02-29T08:34:23.905459Z",
     "iopub.status.busy": "2024-02-29T08:34:23.904426Z",
     "iopub.status.idle": "2024-02-29T08:35:11.389811Z",
     "shell.execute_reply": "2024-02-29T08:35:11.389811Z",
     "shell.execute_reply.started": "2024-02-29T08:34:23.905459Z"
    },
    "is_executing": true
   },
   "outputs": [
    {
     "name": "stderr",
     "output_type": "stream",
     "text": [
      "100%|██████████| 300/300 [00:16<00:00, 18.45it/s]\n",
      "100%|██████████| 300/300 [00:15<00:00, 18.94it/s]\n",
      "100%|██████████| 300/300 [00:15<00:00, 19.52it/s]\n"
     ]
    }
   ],
   "source": [
    "from tqdm import tqdm\n",
    "\n",
    "weights = np.ones(len(X_train))\n",
    "epochs = 3\n",
    "for epoch in range(epochs):\n",
    "    for i in tqdm(range(len(weights))):\n",
    "        cls = KNNClassifier(ker='gauss')\n",
    "        cls.fit(np.delete(X_train.values, i), np.delete(y_train.values, i), weights)\n",
    "        y_pred = cls._predict_single(X_train.values[i])\n",
    "        weights[i] = cls.ker_func(y_train.values[i] != y_pred)"
   ]
  },
  {
   "cell_type": "code",
   "execution_count": 42,
   "id": "75bbb854-d7ef-4c8c-9f5f-165d95a54841",
   "metadata": {
    "execution": {
     "iopub.execute_input": "2024-02-29T07:10:26.267260Z",
     "iopub.status.busy": "2024-02-29T07:10:26.267260Z",
     "iopub.status.idle": "2024-02-29T07:10:26.273150Z",
     "shell.execute_reply": "2024-02-29T07:10:26.272152Z",
     "shell.execute_reply.started": "2024-02-29T07:10:26.267260Z"
    },
    "is_executing": true
   },
   "outputs": [
    {
     "data": {
      "text/plain": [
       "array([0.24197072, 0.39894228, 0.24197072, 0.24197072, 0.39894228])"
      ]
     },
     "execution_count": 42,
     "metadata": {},
     "output_type": "execute_result"
    }
   ],
   "source": [
    "weights[:5]"
   ]
  },
  {
   "cell_type": "code",
   "execution_count": 135,
   "id": "5c44c4fc-d2ca-4157-87a1-69c0439db8fc",
   "metadata": {
    "execution": {
     "iopub.execute_input": "2024-02-29T08:38:39.352635Z",
     "iopub.status.busy": "2024-02-29T08:38:39.352635Z",
     "iopub.status.idle": "2024-02-29T08:38:40.133639Z",
     "shell.execute_reply": "2024-02-29T08:38:40.132627Z",
     "shell.execute_reply.started": "2024-02-29T08:38:39.352635Z"
    },
    "is_executing": true
   },
   "outputs": [
    {
     "data": {
      "text/plain": [
       "'score before is 0.722, score after is 0.697'"
      ]
     },
     "execution_count": 135,
     "metadata": {},
     "output_type": "execute_result"
    }
   ],
   "source": [
    "best_cls = KNNClassifier(**best_k_params)\n",
    "best_cls.fit(X_train.values, y_train.values, weights)\n",
    "preds = best_cls.predict(X_test.values)\n",
    "score = f1_score(y_test, preds, average='weighted')\n",
    "f'score before is {best_k_value:.3f}, score after is {score:.3f}'"
   ]
  },
  {
   "cell_type": "code",
   "execution_count": 136,
   "id": "a3f88a3f-2c22-45a0-9ead-f60063a8476e",
   "metadata": {
    "execution": {
     "iopub.execute_input": "2024-02-29T08:39:18.656586Z",
     "iopub.status.busy": "2024-02-29T08:39:18.655603Z",
     "iopub.status.idle": "2024-02-29T08:39:18.660135Z",
     "shell.execute_reply": "2024-02-29T08:39:18.660135Z",
     "shell.execute_reply.started": "2024-02-29T08:39:18.656586Z"
    }
   },
   "outputs": [],
   "source": [
    "def get_resampled_data(X,y, weights):\n",
    "    X_new = []\n",
    "    y_new = []\n",
    "    for i, (x, y) in enumerate(zip(X, y)):\n",
    "        weight = weights[i]\n",
    "        times = int(weight * 100 // 1)\n",
    "        X_new.extend(x for _ in range(times))\n",
    "        y_new.extend(y for _ in range(times))\n",
    "\n",
    "    return np.array(X_new), np.array(y_new)"
   ]
  },
  {
   "cell_type": "code",
   "execution_count": 166,
   "id": "aa56b602-b176-426b-b758-36b17cbab286",
   "metadata": {
    "execution": {
     "iopub.execute_input": "2024-02-29T09:18:46.287358Z",
     "iopub.status.busy": "2024-02-29T09:18:46.286360Z",
     "iopub.status.idle": "2024-02-29T09:18:46.334657Z",
     "shell.execute_reply": "2024-02-29T09:18:46.334657Z",
     "shell.execute_reply.started": "2024-02-29T09:18:46.287358Z"
    },
    "is_executing": true
   },
   "outputs": [
    {
     "data": {
      "text/plain": [
       "'score before is 0.725, score after is 0.706'"
      ]
     },
     "execution_count": 166,
     "metadata": {},
     "output_type": "execute_result"
    }
   ],
   "source": [
    "n_neighb = best_sklearn_params['n_neighbors']\n",
    "best_params_copy = copy(best_sklearn_params)\n",
    "best_params_copy.pop('n_neighbors' , None)\n",
    "\n",
    "sk_cls = KNeighborsClassifier(n_neighbors = n_neighb * 25, **best_params_copy)\n",
    "sk_x, sk_y = get_resampled_data(X_train.values, y_train.values, weights)\n",
    "sk_cls.fit(sk_x, sk_y)\n",
    "sk_preds = sk_cls.predict(X_test.values)\n",
    "\n",
    "sk_score = f1_score(y_test, sk_preds, average='weighted')\n",
    "f'score before is {best_sklearn_value:.3f}, score after is {sk_score:.3f}'"
   ]
  }
 ],
 "metadata": {
  "kernelspec": {
   "display_name": "Python 3 (ipykernel)",
   "language": "python",
   "name": "python3"
  },
  "language_info": {
   "codemirror_mode": {
    "name": "ipython",
    "version": 3
   },
   "file_extension": ".py",
   "mimetype": "text/x-python",
   "name": "python",
   "nbconvert_exporter": "python",
   "pygments_lexer": "ipython3",
   "version": "3.11.4"
  }
 },
 "nbformat": 4,
 "nbformat_minor": 5
}
