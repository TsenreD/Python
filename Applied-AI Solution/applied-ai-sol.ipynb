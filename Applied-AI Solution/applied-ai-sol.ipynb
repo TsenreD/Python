{
 "metadata": {
  "kernelspec": {
   "display_name": "Python 3 (ipykernel)",
   "language": "python",
   "name": "python3"
  },
  "language_info": {
   "codemirror_mode": {
    "name": "ipython",
    "version": 3
   },
   "file_extension": ".py",
   "mimetype": "text/x-python",
   "name": "python",
   "nbconvert_exporter": "python",
   "pygments_lexer": "ipython3",
   "version": "3.10.8"
  },
  "kaggle": {
   "accelerator": "none",
   "dataSources": [],
   "isInternetEnabled": true,
   "language": "python",
   "sourceType": "notebook",
   "isGpuEnabled": false
  }
 },
 "nbformat_minor": 5,
 "nbformat": 4,
 "cells": [
  {
   "cell_type": "code",
   "source": [
    "import pandas as pd\n",
    "import pyarrow.parquet as pq\n",
    "import numpy as np\n",
    "import pyarrow as pa\n",
    "import utils\n",
    "from catboost import CatBoostClassifier\n",
    "from sklearn.metrics import f1_score\n",
    "\n",
    "\n",
    "import pyarrow.csv as csv"
   ],
   "metadata": {
    "tags": [],
    "ExecuteTime": {
     "end_time": "2024-04-22T15:53:08.728360Z",
     "start_time": "2024-04-22T15:53:00.056941Z"
    }
   },
   "execution_count": 1,
   "outputs": [],
   "id": "66da7d45eba5c448"
  },
  {
   "cell_type": "markdown",
   "source": [
    "# Data preparation\n",
    "For more information about feature engineering check the utils.py file"
   ],
   "metadata": {
    "collapsed": false
   },
   "id": "e23a90245c8f545e"
  },
  {
   "cell_type": "code",
   "outputs": [
    {
     "name": "stderr",
     "output_type": "stream",
     "text": [
      "C:\\Users\\Ernest\\PycharmProjects\\ML_practice\\Hacks\\Applied AI Challenge\\utils.py:74: SettingWithCopyWarning: \n",
      "A value is trying to be set on a copy of a slice from a DataFrame\n",
      "\n",
      "See the caveats in the documentation: https://pandas.pydata.org/pandas-docs/stable/user_guide/indexing.html#returning-a-view-versus-a-copy\n",
      "  train_df.drop(const_columns_to_remove, axis=1, inplace=True)\n"
     ]
    }
   ],
   "source": [
    "train_df, test_df = utils.get_train_test_df()"
   ],
   "metadata": {
    "collapsed": false,
    "ExecuteTime": {
     "end_time": "2024-04-22T15:53:25.326857Z",
     "start_time": "2024-04-22T15:53:08.730368Z"
    }
   },
   "id": "733b08a1d939380f",
   "execution_count": 2
  },
  {
   "cell_type": "code",
   "outputs": [],
   "source": [
    "# train_df = csv.read_csv(\"train.csv\").to_pandas().set_index(\"id\").drop(columns=['index'])\n",
    "# test_df = csv.read_csv(\"test.csv\").to_pandas().set_index(\"id\")"
   ],
   "metadata": {
    "collapsed": false,
    "ExecuteTime": {
     "end_time": "2024-04-20T10:18:35.681487Z",
     "start_time": "2024-04-20T10:18:02.296920Z"
    }
   },
   "id": "9f5f06f86f69cdee",
   "execution_count": 29
  },
  {
   "cell_type": "code",
   "source": [
    "from sklearn.model_selection import train_test_split\n",
    "\n",
    "X_train, X_test, y_train, y_test = train_test_split(train_df.drop('target', axis=1), train_df['target'], test_size=0.2, random_state=42, stratify=train_df['target'])\n",
    "X_train, X_val, y_train, y_val = train_test_split(X_train, y_train, test_size=0.1, random_state=42, stratify=y_train)"
   ],
   "metadata": {
    "tags": [],
    "ExecuteTime": {
     "end_time": "2024-04-20T10:18:41.535732Z",
     "start_time": "2024-04-20T10:18:35.715412Z"
    }
   },
   "execution_count": 30,
   "outputs": [],
   "id": "9990151518f6d55f"
  },
  {
   "cell_type": "code",
   "source": [
    "fit_params = {\n",
    "    \"X\": X_train,\n",
    "    \"y\": y_train,\n",
    "    \"eval_set\": (X_val, y_val),\n",
    "    'verbose': 100,\n",
    "}"
   ],
   "metadata": {
    "collapsed": false,
    "ExecuteTime": {
     "end_time": "2024-04-20T10:18:41.635991Z",
     "start_time": "2024-04-20T10:18:41.624712Z"
    }
   },
   "execution_count": 34,
   "outputs": [],
   "id": "c9e31974dbbee015"
  },
  {
   "cell_type": "markdown",
   "source": [
    "Class weights were originally [1, 84], which is the inverse frequency of positive class, but it performed poorly, after that I used optuna to determine value 25 for it."
   ],
   "metadata": {
    "collapsed": false
   },
   "id": "90679b9207c79df5"
  },
  {
   "cell_type": "code",
   "outputs": [],
   "source": [
    "import numpy as np\n",
    "best_params = {\n",
    "    \"used_ram_limit\": \"8gb\",\n",
    "    \"random_seed\": 42,\n",
    "    \"class_weights\" : np.array([1, 25]),\n",
    "    'use_best_model': True,\n",
    "    'iterations': 2000,\n",
    "    'l2_leaf_reg': 24,\n",
    "    'random_strength': 3,\n",
    "    \"max_depth\": 6,\n",
    "    'early_stopping_rounds': 300\n",
    "}\n"
   ],
   "metadata": {
    "collapsed": false,
    "ExecuteTime": {
     "end_time": "2024-04-20T14:17:11.069422Z",
     "start_time": "2024-04-20T14:17:11.062701Z"
    }
   },
   "id": "d6e29a8ad11c284b",
   "execution_count": 71
  },
  {
   "cell_type": "markdown",
   "source": [
    "# Tuning the model"
   ],
   "metadata": {
    "collapsed": false
   },
   "id": "9f87468bad91cf6f"
  },
  {
   "cell_type": "code",
   "outputs": [],
   "source": [
    "import optuna\n",
    "\n",
    "def objective(trial):\n",
    "\n",
    "    param = {\n",
    "        \"colsample_bylevel\": trial.suggest_float(\"colsample_bylevel\", 0.8, 1.0, log=True),\n",
    "    }\n",
    "    cp = best_params.copy()\n",
    "    cp.update(param)\n",
    "    model = CatBoostClassifier(**cp)\n",
    "\n",
    "    fp = fit_params.copy()\n",
    "    fp['verbose'] = False\n",
    "\n",
    "    model.fit(**fp)\n",
    "\n",
    "    preds = model.predict(X_val)\n",
    "\n",
    "\n",
    "    return f1_score(y_val, preds)"
   ],
   "metadata": {
    "collapsed": false,
    "ExecuteTime": {
     "end_time": "2024-04-20T14:17:12.181263Z",
     "start_time": "2024-04-20T14:17:12.169327Z"
    }
   },
   "id": "5455a847dd82ba0f",
   "execution_count": 72
  },
  {
   "cell_type": "code",
   "outputs": [
    {
     "name": "stderr",
     "output_type": "stream",
     "text": [
      "[I 2024-04-20 17:17:12,223] A new study created in memory with name: no-name-3f1b3e1b-aba3-49fc-9e5b-42bca2b3c4c1\n",
      "[I 2024-04-20 17:21:26,927] Trial 0 finished with value: 0.09627216793340572 and parameters: {'colsample_bylevel': 0.8502932391455729}. Best is trial 0 with value: 0.09627216793340572.\n",
      "[I 2024-04-20 17:25:46,382] Trial 1 finished with value: 0.09520322226290737 and parameters: {'colsample_bylevel': 0.9535079716279686}. Best is trial 0 with value: 0.09627216793340572.\n",
      "[I 2024-04-20 17:29:25,680] Trial 2 finished with value: 0.09996297667530545 and parameters: {'colsample_bylevel': 0.9993499988691655}. Best is trial 2 with value: 0.09996297667530545.\n"
     ]
    }
   ],
   "source": [
    "study = optuna.create_study(direction='maximize')\n",
    "study.optimize(objective, n_trials=10)\n",
    "print('Number of finished trials:', len(study.trials))\n",
    "print('Best trial:', study.best_trial.params)\n",
    "print('Best value:', study.best_trial.value)"
   ],
   "metadata": {
    "collapsed": false,
    "is_executing": true,
    "ExecuteTime": {
     "start_time": "2024-04-20T14:17:12.219661Z"
    }
   },
   "id": "1eaff7936394c076",
   "execution_count": null
  },
  {
   "cell_type": "markdown",
   "source": [
    "# Predicting and uploading"
   ],
   "metadata": {
    "collapsed": false
   },
   "id": "9accc4a3c37bc92f"
  },
  {
   "cell_type": "code",
   "source": [
    "from sklearn.metrics import f1_score\n",
    "\n",
    "model = CatBoostClassifier(**best_params)\n",
    "\n",
    "model.fit(**fit_params)\n",
    "\n",
    "y_pred = model.predict(X_test)\n",
    "\n",
    "f1_score(y_test, y_pred)"
   ],
   "metadata": {
    "tags": [],
    "ExecuteTime": {
     "end_time": "2024-04-20T13:54:05.741609Z",
     "start_time": "2024-04-20T13:50:19.446474Z"
    }
   },
   "execution_count": 70,
   "outputs": [
    {
     "name": "stdout",
     "output_type": "stream",
     "text": [
      "{'used_ram_limit': '8gb', 'random_seed': 42, 'class_weights': array([ 1, 25]), 'use_best_model': True, 'iterations': 2000, 'l2_leaf_reg': 18.76, 'random_strength': 2.48, 'max_depth': 6, 'early_stopping_rounds': 300}\n",
      "0:\tlearn: 0.6824314\ttest: 0.6824504\tbest: 0.6824504 (0)\ttotal: 266ms\tremaining: 8m 51s\n",
      "100:\tlearn: 0.4860507\ttest: 0.4843743\tbest: 0.4843743 (100)\ttotal: 16.5s\tremaining: 5m 9s\n",
      "200:\tlearn: 0.4697739\ttest: 0.4683842\tbest: 0.4683842 (200)\ttotal: 33.9s\tremaining: 5m 3s\n",
      "300:\tlearn: 0.4626710\ttest: 0.4622902\tbest: 0.4622902 (300)\ttotal: 50.9s\tremaining: 4m 47s\n",
      "400:\tlearn: 0.4571546\ttest: 0.4584277\tbest: 0.4584156 (399)\ttotal: 1m 5s\tremaining: 4m 22s\n",
      "500:\tlearn: 0.4520463\ttest: 0.4549623\tbest: 0.4549559 (499)\ttotal: 1m 16s\tremaining: 3m 50s\n",
      "600:\tlearn: 0.4458166\ttest: 0.4517730\tbest: 0.4517730 (600)\ttotal: 1m 26s\tremaining: 3m 21s\n",
      "700:\tlearn: 0.4408390\ttest: 0.4499125\tbest: 0.4498969 (696)\ttotal: 1m 37s\tremaining: 2m 59s\n",
      "800:\tlearn: 0.4364273\ttest: 0.4487998\tbest: 0.4487898 (799)\ttotal: 1m 47s\tremaining: 2m 40s\n",
      "900:\tlearn: 0.4326366\ttest: 0.4475234\tbest: 0.4475106 (899)\ttotal: 1m 56s\tremaining: 2m 22s\n",
      "1000:\tlearn: 0.4292316\ttest: 0.4464876\tbest: 0.4464725 (997)\ttotal: 2m 5s\tremaining: 2m 5s\n",
      "1100:\tlearn: 0.4258965\ttest: 0.4457302\tbest: 0.4457064 (1099)\ttotal: 2m 14s\tremaining: 1m 49s\n",
      "1200:\tlearn: 0.4229092\ttest: 0.4451994\tbest: 0.4451068 (1190)\ttotal: 2m 24s\tremaining: 1m 35s\n",
      "1300:\tlearn: 0.4200256\ttest: 0.4449794\tbest: 0.4449780 (1299)\ttotal: 2m 33s\tremaining: 1m 22s\n",
      "1400:\tlearn: 0.4171655\ttest: 0.4447047\tbest: 0.4446772 (1398)\ttotal: 2m 43s\tremaining: 1m 9s\n",
      "1500:\tlearn: 0.4145935\ttest: 0.4446509\tbest: 0.4445562 (1455)\ttotal: 2m 52s\tremaining: 57.4s\n",
      "1600:\tlearn: 0.4118716\ttest: 0.4442222\tbest: 0.4441657 (1580)\ttotal: 3m 1s\tremaining: 45.3s\n",
      "1700:\tlearn: 0.4095151\ttest: 0.4439992\tbest: 0.4439690 (1698)\ttotal: 3m 10s\tremaining: 33.6s\n",
      "1800:\tlearn: 0.4072438\ttest: 0.4438555\tbest: 0.4438555 (1800)\ttotal: 3m 20s\tremaining: 22.1s\n",
      "1900:\tlearn: 0.4050365\ttest: 0.4438722\tbest: 0.4438005 (1848)\ttotal: 3m 29s\tremaining: 10.9s\n",
      "1999:\tlearn: 0.4028989\ttest: 0.4437855\tbest: 0.4437855 (1999)\ttotal: 3m 38s\tremaining: 0us\n",
      "\n",
      "bestTest = 0.4437855248\n",
      "bestIteration = 1999\n"
     ]
    },
    {
     "data": {
      "text/plain": "0.09378663540445487"
     },
     "execution_count": 70,
     "metadata": {},
     "output_type": "execute_result"
    }
   ],
   "id": "e4fd89e94a20862d"
  },
  {
   "cell_type": "code",
   "source": [
    "preds = model.predict(test_df)"
   ],
   "metadata": {
    "collapsed": false,
    "ExecuteTime": {
     "end_time": "2024-04-20T11:16:17.446161Z",
     "start_time": "2024-04-20T11:16:16.155724Z"
    }
   },
   "execution_count": 59,
   "outputs": [],
   "id": "31311569dacbdb41"
  },
  {
   "cell_type": "code",
   "source": [
    "def upload_from_test(test_df, name):\n",
    "    preds = model.predict(test_df)\n",
    "    index = test_df.index.values\n",
    "    df = pd.DataFrame({\"id\": index, \"target\": preds})\n",
    "    df.to_csv(name, index=False)"
   ],
   "metadata": {
    "collapsed": false,
    "ExecuteTime": {
     "end_time": "2024-04-20T11:16:17.455490Z",
     "start_time": "2024-04-20T11:16:17.449495Z"
    }
   },
   "execution_count": 60,
   "outputs": [],
   "id": "55a3c4c80251cbb4"
  },
  {
   "cell_type": "code",
   "source": [
    "upload_from_test(test_df, \"final.csv\")"
   ],
   "metadata": {
    "collapsed": false,
    "ExecuteTime": {
     "end_time": "2024-04-20T11:16:26.780380Z",
     "start_time": "2024-04-20T11:16:22.688672Z"
    }
   },
   "execution_count": 61,
   "outputs": [],
   "id": "df75948d76af3222"
  }
 ]
}
